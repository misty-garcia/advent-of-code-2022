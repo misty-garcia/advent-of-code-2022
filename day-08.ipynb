{
 "cells": [
  {
   "cell_type": "markdown",
   "id": "23ad3bba",
   "metadata": {},
   "source": [
    "# Treetop Tree House"
   ]
  },
  {
   "cell_type": "markdown",
   "id": "b9fbe170",
   "metadata": {},
   "source": [
    "## Part 1"
   ]
  },
  {
   "cell_type": "markdown",
   "id": "fa78e01b",
   "metadata": {},
   "source": [
    "The expedition comes across a peculiar patch of tall trees all planted carefully in a grid. The Elves explain that a previous expedition planted these trees as a reforestation effort. Now, they're curious if this would be a good location for a tree house.\n",
    "\n",
    "First, determine whether there is enough tree cover here to keep a tree house hidden. To do this, you need to count the number of trees that are visible from outside the grid when looking directly along a row or column.\n",
    "\n",
    "The Elves have already launched a quadcopter to generate a map with the height of each tree (your puzzle input). For example:\n",
    "\n",
    "30373\n",
    "25512\n",
    "65332\n",
    "33549\n",
    "35390\n",
    "Each tree is represented as a single digit whose value is its height, where 0 is the shortest and 9 is the tallest.\n",
    "\n",
    "A tree is visible if all of the other trees between it and an edge of the grid are shorter than it. Only consider trees in the same row or column; that is, only look up, down, left, or right from any given tree.\n",
    "\n",
    "All of the trees around the edge of the grid are visible - since they are already on the edge, there are no trees to block the view. In this example, that only leaves the interior nine trees to consider:\n",
    "\n",
    "The top-left 5 is visible from the left and top. (It isn't visible from the right or bottom since other trees of height 5 are in the way.)\n",
    "The top-middle 5 is visible from the top and right.\n",
    "The top-right 1 is not visible from any direction; for it to be visible, there would need to only be trees of height 0 between it and an edge.\n",
    "The left-middle 5 is visible, but only from the right.\n",
    "The center 3 is not visible from any direction; for it to be visible, there would need to be only trees of at most height 2 between it and an edge.\n",
    "The right-middle 3 is visible from the right.\n",
    "In the bottom row, the middle 5 is visible, but the 3 and 4 are not.\n",
    "With 16 trees visible on the edge and another 5 visible in the interior, a total of 21 trees are visible in this arrangement.\n",
    "\n",
    "Consider your map; how many trees are visible from outside the grid?"
   ]
  },
  {
   "cell_type": "code",
   "execution_count": 6,
   "id": "45c97ee9",
   "metadata": {},
   "outputs": [
    {
     "data": {
      "text/plain": [
       "['300030213213113240234210203330153124541151003015456312312442524531405533542450111443312103110220211',\n",
       " '133000004421300341005340432514034555543556261543410250030436135103304323425502113341331442032311030',\n",
       " '213121312230422241205230130541010120012561656126511652636160154566425231221254515542342023142010133',\n",
       " '210020103232311410025023513110540633654032560666266266442224400244155120504322112255323444432301210',\n",
       " '300221311013444150512444105105055122104524660253365233115442634642236455351502043504233200041232000']"
      ]
     },
     "execution_count": 6,
     "metadata": {},
     "output_type": "execute_result"
    }
   ],
   "source": [
    "with open('day_08_input.txt', 'r') as f:\n",
    "    data = f.readlines()\n",
    "\n",
    "data = [dat.strip() for dat in data]\n",
    "data[:5]"
   ]
  },
  {
   "cell_type": "code",
   "execution_count": 19,
   "id": "6edcb8c1",
   "metadata": {},
   "outputs": [],
   "source": [
    "trees = ['30373',\n",
    "'25512',\n",
    "'65332',\n",
    "'33549',\n",
    "'35390']"
   ]
  },
  {
   "cell_type": "code",
   "execution_count": 21,
   "id": "73a04524",
   "metadata": {},
   "outputs": [
    {
     "data": {
      "text/plain": [
       "[['3', '0', '3', '7', '3'],\n",
       " ['2', '5', '5', '1', '2'],\n",
       " ['6', '5', '3', '3', '2'],\n",
       " ['3', '3', '5', '4', '9'],\n",
       " ['3', '5', '3', '9', '0']]"
      ]
     },
     "execution_count": 21,
     "metadata": {},
     "output_type": "execute_result"
    }
   ],
   "source": [
    "trees = [[c for c in char] for char in trees]\n",
    "trees"
   ]
  },
  {
   "cell_type": "code",
   "execution_count": 59,
   "id": "f3ae126a",
   "metadata": {},
   "outputs": [
    {
     "name": "stdout",
     "output_type": "stream",
     "text": [
      "5\n",
      "5\n",
      "1\n",
      "5\n",
      "3\n",
      "3\n",
      "3\n",
      "5\n",
      "4\n"
     ]
    }
   ],
   "source": [
    "for x in range(1,len(trees)-1):\n",
    "    for y in trees[x][1:-1]:\n",
    "        print(y)"
   ]
  },
  {
   "cell_type": "code",
   "execution_count": null,
   "id": "08a52f00",
   "metadata": {},
   "outputs": [],
   "source": []
  }
 ],
 "metadata": {
  "kernelspec": {
   "display_name": "Python 3 (ipykernel)",
   "language": "python",
   "name": "python3"
  },
  "language_info": {
   "codemirror_mode": {
    "name": "ipython",
    "version": 3
   },
   "file_extension": ".py",
   "mimetype": "text/x-python",
   "name": "python",
   "nbconvert_exporter": "python",
   "pygments_lexer": "ipython3",
   "version": "3.9.12"
  }
 },
 "nbformat": 4,
 "nbformat_minor": 5
}
