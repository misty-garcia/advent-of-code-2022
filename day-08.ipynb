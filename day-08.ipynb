{
 "cells": [
  {
   "cell_type": "markdown",
   "metadata": {},
   "source": [
    "# Treetop Tree House"
   ]
  },
  {
   "cell_type": "markdown",
   "metadata": {},
   "source": [
    "## Part 1"
   ]
  },
  {
   "cell_type": "markdown",
   "metadata": {},
   "source": [
    "The expedition comes across a peculiar patch of tall trees all planted carefully in a grid. The Elves explain that a previous expedition planted these trees as a reforestation effort. Now, they're curious if this would be a good location for a tree house.\n",
    "\n",
    "First, determine whether there is enough tree cover here to keep a tree house hidden. To do this, you need to count the number of trees that are visible from outside the grid when looking directly along a row or column.\n",
    "\n",
    "The Elves have already launched a quadcopter to generate a map with the height of each tree (your puzzle input). For example:\n",
    "\n",
    "30373\n",
    "25512\n",
    "65332\n",
    "33549\n",
    "35390\n",
    "Each tree is represented as a single digit whose value is its height, where 0 is the shortest and 9 is the tallest.\n",
    "\n",
    "A tree is visible if all of the other trees between it and an edge of the grid are shorter than it. Only consider trees in the same row or column; that is, only look up, down, left, or right from any given tree.\n",
    "\n",
    "All of the trees around the edge of the grid are visible - since they are already on the edge, there are no trees to block the view. In this example, that only leaves the interior nine trees to consider:\n",
    "\n",
    "The top-left 5 is visible from the left and top. (It isn't visible from the right or bottom since other trees of height 5 are in the way.)\n",
    "The top-middle 5 is visible from the top and right.\n",
    "The top-right 1 is not visible from any direction; for it to be visible, there would need to only be trees of height 0 between it and an edge.\n",
    "The left-middle 5 is visible, but only from the right.\n",
    "The center 3 is not visible from any direction; for it to be visible, there would need to be only trees of at most height 2 between it and an edge.\n",
    "The right-middle 3 is visible from the right.\n",
    "In the bottom row, the middle 5 is visible, but the 3 and 4 are not.\n",
    "With 16 trees visible on the edge and another 5 visible in the interior, a total of 21 trees are visible in this arrangement.\n",
    "\n",
    "Consider your map; how many trees are visible from outside the grid?"
   ]
  },
  {
   "cell_type": "code",
   "execution_count": 194,
   "metadata": {},
   "outputs": [
    {
     "data": {
      "text/plain": [
       "['300030213213113240234210203330153124541151003015456312312442524531405533542450111443312103110220211',\n",
       " '133000004421300341005340432514034555543556261543410250030436135103304323425502113341331442032311030',\n",
       " '213121312230422241205230130541010120012561656126511652636160154566425231221254515542342023142010133',\n",
       " '210020103232311410025023513110540633654032560666266266442224400244155120504322112255323444432301210',\n",
       " '300221311013444150512444105105055122104524660253365233115442634642236455351502043504233200041232000']"
      ]
     },
     "execution_count": 194,
     "metadata": {},
     "output_type": "execute_result"
    }
   ],
   "source": [
    "with open('day_08_input.txt', 'r') as f:\n",
    "    data = f.readlines()\n",
    "\n",
    "data = [dat.strip() for dat in data]\n",
    "data[:5]"
   ]
  },
  {
   "cell_type": "code",
   "execution_count": 195,
   "metadata": {},
   "outputs": [],
   "source": [
    "trees = [[c for c in char] for char in data]"
   ]
  },
  {
   "cell_type": "code",
   "execution_count": 113,
   "metadata": {
    "scrolled": false
   },
   "outputs": [
    {
     "data": {
      "text/plain": [
       "1717"
      ]
     },
     "execution_count": 113,
     "metadata": {},
     "output_type": "execute_result"
    }
   ],
   "source": [
    "count_trees = 0\n",
    "\n",
    "for i, x in enumerate(trees):\n",
    "    for j, y in enumerate(trees[i]):\n",
    "        \n",
    "        #count all outside trees as visible\n",
    "        if (i == 0) | (j == 0) | (i == len(trees) - 1) | (j == len(trees) - 1):\n",
    "            count_trees += 1\n",
    "        \n",
    "        #check if inner trees are visible\n",
    "        else:\n",
    "            tall_one_direction = []\n",
    "            \n",
    "            #check left direction\n",
    "            k = j-1\n",
    "            while k >= 0:\n",
    "                if y <= trees[i][k]:\n",
    "                    break\n",
    "                k -= 1\n",
    "            if k == -1:\n",
    "                tall_one_direction.append('L')\n",
    "            \n",
    "            #check right direction\n",
    "            k = j+1\n",
    "            while k <= len(trees[i])-1:\n",
    "                if y <= trees[i][k]:\n",
    "                    break\n",
    "                k += 1\n",
    "            if k == len(trees[i]):\n",
    "                tall_one_direction.append('R')\n",
    "                \n",
    "            #check up direction\n",
    "            k = i-1\n",
    "            while k >= 0:\n",
    "                if y <= trees[k][j]:\n",
    "                    break\n",
    "                k -= 1\n",
    "            if k == -1:\n",
    "                tall_one_direction.append('U')\n",
    "            \n",
    "            #check down direction\n",
    "            k = i+1\n",
    "            while k <= len(trees[i])-1:\n",
    "                if y <= trees[k][j]:\n",
    "                    break\n",
    "                k += 1\n",
    "            if k == len(trees[i]):\n",
    "                tall_one_direction.append('D')\n",
    "                \n",
    "            #if tree is visible in at least one direction, count it\n",
    "            if len(tall_one_direction) >= 1:\n",
    "                count_trees += 1\n",
    "count_trees"
   ]
  },
  {
   "cell_type": "markdown",
   "metadata": {},
   "source": [
    "## Part 2"
   ]
  },
  {
   "cell_type": "markdown",
   "metadata": {},
   "source": [
    "Content with the amount of tree cover available, the Elves just need to know the best spot to build their tree house: they would like to be able to see a lot of trees.\n",
    "\n",
    "To measure the viewing distance from a given tree, look up, down, left, and right from that tree; stop if you reach an edge or at the first tree that is the same height or taller than the tree under consideration. (If a tree is right on the edge, at least one of its viewing distances will be zero.)\n",
    "\n",
    "The Elves don't care about distant trees taller than those found by the rules above; the proposed tree house has large eaves to keep it dry, so they wouldn't be able to see higher than the tree house anyway.\n",
    "\n",
    "In the example above, consider the middle 5 in the second row:\n",
    "\n",
    "30373\n",
    "25512\n",
    "65332\n",
    "33549\n",
    "35390\n",
    "Looking up, its view is not blocked; it can see 1 tree (of height 3).\n",
    "Looking left, its view is blocked immediately; it can see only 1 tree (of height 5, right next to it).\n",
    "Looking right, its view is not blocked; it can see 2 trees.\n",
    "Looking down, its view is blocked eventually; it can see 2 trees (one of height 3, then the tree of height 5 that blocks its view).\n",
    "A tree's scenic score is found by multiplying together its viewing distance in each of the four directions. For this tree, this is 4 (found by multiplying 1 * 1 * 2 * 2).\n",
    "\n",
    "However, you can do even better: consider the tree of height 5 in the middle of the fourth row:\n",
    "\n",
    "30373\n",
    "25512\n",
    "65332\n",
    "33549\n",
    "35390\n",
    "Looking up, its view is blocked at 2 trees (by another tree with a height of 5).\n",
    "Looking left, its view is not blocked; it can see 2 trees.\n",
    "Looking down, its view is also not blocked; it can see 1 tree.\n",
    "Looking right, its view is blocked at 2 trees (by a massive tree of height 9).\n",
    "This tree's scenic score is 8 (2 * 2 * 1 * 2); this is the ideal spot for the tree house.\n",
    "\n",
    "Consider each tree on your map. What is the highest scenic score possible for any tree?\n",
    "\n"
   ]
  },
  {
   "cell_type": "code",
   "execution_count": 156,
   "metadata": {},
   "outputs": [],
   "source": [
    "import numpy as np"
   ]
  },
  {
   "cell_type": "code",
   "execution_count": 193,
   "metadata": {},
   "outputs": [],
   "source": [
    "# trees = ['30373',\n",
    "# '25512',\n",
    "# '65332',\n",
    "# '33549',\n",
    "# '35390']\n",
    "# trees = [[c for c in char] for char in trees]\n",
    "# trees"
   ]
  },
  {
   "cell_type": "code",
   "execution_count": 196,
   "metadata": {},
   "outputs": [],
   "source": [
    "trees = [[c for c in char] for char in data]"
   ]
  },
  {
   "cell_type": "code",
   "execution_count": 226,
   "metadata": {},
   "outputs": [],
   "source": [
    "scenic_scores = []\n",
    "\n",
    "for i, x in enumerate(trees):\n",
    "    for j, y in enumerate(trees[i]):\n",
    "        \n",
    "        #ignore outside trees\n",
    "        if (i == 0) | (j == 0) | (i == len(trees) - 1) | (j == len(trees) - 1):\n",
    "            pass\n",
    "        \n",
    "        #check inner trees\n",
    "        else:\n",
    "            scenic_score = []\n",
    "            \n",
    "            #check left direction\n",
    "            k = j-1\n",
    "            num_trees = 0\n",
    "            while k >= 0:\n",
    "                if trees[i][k] < y:\n",
    "                    num_trees += 1\n",
    "                else:\n",
    "                    num_trees += 1\n",
    "                    break\n",
    "                k -= 1\n",
    "            scenic_score.append(num_trees)\n",
    "            \n",
    "            #check right direction\n",
    "            k = j+1\n",
    "            num_trees = 0\n",
    "            while k <= len(trees[i])-1:\n",
    "                if trees[i][k] < y:\n",
    "                    num_trees += 1\n",
    "                else:\n",
    "                    num_trees += 1\n",
    "                    break\n",
    "                k += 1\n",
    "            scenic_score.append(num_trees)\n",
    "                \n",
    "            #check up direction\n",
    "            k = i-1\n",
    "            num_trees = 0\n",
    "            while k >= 0:\n",
    "                if trees[k][j] < y:\n",
    "                    num_trees += 1\n",
    "                else:\n",
    "                    num_trees += 1\n",
    "                    break\n",
    "                k -= 1\n",
    "            scenic_score.append(num_trees)\n",
    "            \n",
    "            #check down direction\n",
    "            k = i+1\n",
    "            num_trees = 0\n",
    "            while k <= len(trees[i])-1:\n",
    "                if trees[k][j] < y:\n",
    "                    num_trees += 1\n",
    "                else:\n",
    "                    num_trees += 1\n",
    "                    break\n",
    "                k += 1\n",
    "            scenic_score.append(num_trees)\n",
    "            \n",
    "            #multiply scores together and add to master list \n",
    "            scenic_scores.append(np.prod(scenic_score))"
   ]
  },
  {
   "cell_type": "code",
   "execution_count": 227,
   "metadata": {},
   "outputs": [
    {
     "data": {
      "text/plain": [
       "321975"
      ]
     },
     "execution_count": 227,
     "metadata": {},
     "output_type": "execute_result"
    }
   ],
   "source": [
    "max(scenic_scores)"
   ]
  },
  {
   "cell_type": "code",
   "execution_count": null,
   "metadata": {},
   "outputs": [],
   "source": []
  }
 ],
 "metadata": {
  "kernelspec": {
   "display_name": "Python 3",
   "language": "python",
   "name": "python3"
  },
  "language_info": {
   "codemirror_mode": {
    "name": "ipython",
    "version": 3
   },
   "file_extension": ".py",
   "mimetype": "text/x-python",
   "name": "python",
   "nbconvert_exporter": "python",
   "pygments_lexer": "ipython3",
   "version": "3.7.3"
  },
  "toc": {
   "base_numbering": 1,
   "nav_menu": {},
   "number_sections": false,
   "sideBar": true,
   "skip_h1_title": true,
   "title_cell": "Table of Contents",
   "title_sidebar": "Contents",
   "toc_cell": false,
   "toc_position": {},
   "toc_section_display": true,
   "toc_window_display": false
  }
 },
 "nbformat": 4,
 "nbformat_minor": 5
}
