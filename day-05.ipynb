{
 "cells": [
  {
   "cell_type": "markdown",
   "metadata": {},
   "source": [
    "# Supply Stacks"
   ]
  },
  {
   "cell_type": "markdown",
   "metadata": {},
   "source": [
    "## Part 1"
   ]
  },
  {
   "cell_type": "markdown",
   "metadata": {},
   "source": [
    "The expedition can depart as soon as the final supplies have been unloaded from the ships. Supplies are stored in stacks of marked crates, but because the needed supplies are buried under many other crates, the crates need to be rearranged.\n",
    "\n",
    "The ship has a giant cargo crane capable of moving crates between stacks. To ensure none of the crates get crushed or fall over, the crane operator will rearrange them in a series of carefully-planned steps. After the crates are rearranged, the desired crates will be at the top of each stack.\n",
    "\n",
    "The Elves don't want to interrupt the crane operator during this delicate procedure, but they forgot to ask her which crate will end up where, and they want to be ready to unload them as soon as possible so they can embark.\n",
    "\n",
    "They do, however, have a drawing of the starting stacks of crates and the rearrangement procedure (your puzzle input). For example:\n",
    "\n",
    "    [D]    \n",
    "[N] [C]    \n",
    "[Z] [M] [P]\n",
    " 1   2   3 \n",
    "\n",
    "move 1 from 2 to 1\n",
    "move 3 from 1 to 3\n",
    "move 2 from 2 to 1\n",
    "move 1 from 1 to 2\n",
    "In this example, there are three stacks of crates. Stack 1 contains two crates: crate Z is on the bottom, and crate N is on top. Stack 2 contains three crates; from bottom to top, they are crates M, C, and D. Finally, stack 3 contains a single crate, P.\n",
    "\n",
    "Then, the rearrangement procedure is given. In each step of the procedure, a quantity of crates is moved from one stack to a different stack. In the first step of the above rearrangement procedure, one crate is moved from stack 2 to stack 1, resulting in this configuration:\n",
    "\n",
    "[D]        \n",
    "[N] [C]    \n",
    "[Z] [M] [P]\n",
    " 1   2   3 \n",
    "In the second step, three crates are moved from stack 1 to stack 3. Crates are moved one at a time, so the first crate to be moved (D) ends up below the second and third crates:\n",
    "\n",
    "        [Z]\n",
    "        [N]\n",
    "    [C] [D]\n",
    "    [M] [P]\n",
    " 1   2   3\n",
    "Then, both crates are moved from stack 2 to stack 1. Again, because crates are moved one at a time, crate C ends up below crate M:\n",
    "\n",
    "        [Z]\n",
    "        [N]\n",
    "[M]     [D]\n",
    "[C]     [P]\n",
    " 1   2   3\n",
    "Finally, one crate is moved from stack 1 to stack 2:\n",
    "\n",
    "        [Z]\n",
    "        [N]\n",
    "        [D]\n",
    "[C] [M] [P]\n",
    " 1   2   3\n",
    "The Elves just need to know which crate will end up on top of each stack; in this example, the top crates are C in stack 1, M in stack 2, and Z in stack 3, so you should combine these together and give the Elves the message CMZ.\n",
    "\n",
    "After the rearrangement procedure completes, what crate ends up on top of each stack?"
   ]
  },
  {
   "cell_type": "code",
   "execution_count": 1,
   "metadata": {},
   "outputs": [],
   "source": [
    "import pandas as pd\n",
    "import numpy as np"
   ]
  },
  {
   "cell_type": "code",
   "execution_count": 2,
   "metadata": {},
   "outputs": [],
   "source": [
    "with open('day_05_input.txt', 'r') as f:\n",
    "    data = f.readlines()"
   ]
  },
  {
   "cell_type": "code",
   "execution_count": 3,
   "metadata": {},
   "outputs": [
    {
     "data": {
      "text/plain": [
       "['    [C]         [Q]         [V]    \\n',\n",
       " '    [D]         [D] [S]     [M] [Z]\\n',\n",
       " '    [G]     [P] [W] [M]     [C] [G]\\n',\n",
       " '    [F]     [Z] [C] [D] [P] [S] [W]\\n',\n",
       " '[P] [L]     [C] [V] [W] [W] [H] [L]\\n',\n",
       " '[G] [B] [V] [R] [L] [N] [G] [P] [F]\\n',\n",
       " '[R] [T] [S] [S] [S] [T] [D] [L] [P]\\n',\n",
       " '[N] [J] [M] [L] [P] [C] [H] [Z] [R]\\n',\n",
       " ' 1   2   3   4   5   6   7   8   9 \\n',\n",
       " '\\n',\n",
       " 'move 2 from 4 to 6\\n',\n",
       " 'move 4 from 5 to 3\\n',\n",
       " 'move 6 from 6 to 1\\n',\n",
       " 'move 4 from 1 to 4\\n',\n",
       " 'move 4 from 9 to 4\\n']"
      ]
     },
     "execution_count": 3,
     "metadata": {},
     "output_type": "execute_result"
    }
   ],
   "source": [
    "data[:15]"
   ]
  },
  {
   "cell_type": "code",
   "execution_count": 17,
   "metadata": {},
   "outputs": [],
   "source": [
    "stacks = []\n",
    "directions = []\n",
    "\n",
    "#split stacks and directions\n",
    "for dat in data:\n",
    "    dat = dat.strip('\\n') \n",
    "    \n",
    "    if dat.startswith('move'):\n",
    "        directions.append(dat)\n",
    "    else:\n",
    "        if dat != '':\n",
    "            stacks.append(dat)"
   ]
  },
  {
   "cell_type": "code",
   "execution_count": 18,
   "metadata": {},
   "outputs": [
    {
     "data": {
      "text/plain": [
       "['    [C]         [Q]         [V]    ',\n",
       " '    [D]         [D] [S]     [M] [Z]',\n",
       " '    [G]     [P] [W] [M]     [C] [G]',\n",
       " '    [F]     [Z] [C] [D] [P] [S] [W]',\n",
       " '[P] [L]     [C] [V] [W] [W] [H] [L]',\n",
       " '[G] [B] [V] [R] [L] [N] [G] [P] [F]',\n",
       " '[R] [T] [S] [S] [S] [T] [D] [L] [P]',\n",
       " '[N] [J] [M] [L] [P] [C] [H] [Z] [R]']"
      ]
     },
     "execution_count": 18,
     "metadata": {},
     "output_type": "execute_result"
    }
   ],
   "source": [
    "#remove row number from stacks\n",
    "stacks = stacks[:-1] \n",
    "stacks"
   ]
  },
  {
   "cell_type": "code",
   "execution_count": 31,
   "metadata": {},
   "outputs": [
    {
     "data": {
      "text/plain": [
       "1        NRGP\n",
       "2    JTBLFGDC\n",
       "3         MSV\n",
       "4      LSRCZP\n",
       "5    PSLVCWDQ\n",
       "6     CTNWDMS\n",
       "7       HDGWP\n",
       "8    ZLPHSCMV\n",
       "9     RPFLWGZ\n",
       "dtype: object"
      ]
     },
     "execution_count": 31,
     "metadata": {},
     "output_type": "execute_result"
    }
   ],
   "source": [
    "stack_start = []\n",
    "\n",
    "#reverse the stacks\n",
    "for stack in stacks[::-1]:\n",
    "    stack_one = []\n",
    "\n",
    "    #save box letter for each stack\n",
    "    for i, s in enumerate(stack):\n",
    "        if i in (1,5,9,13,17,21,25,29,33):\n",
    "            stack_one.append(s)\n",
    "    \n",
    "    #make a list of lists\n",
    "    stack_start.append(stack_one)\n",
    "\n",
    "stack_start = pd.DataFrame(stack_start)\n",
    "stack_start.columns = range(1,10) #renumber index to match stacks\n",
    "stack_start = stack_start.sum().str.strip() #squish columns together\n",
    "stack_start"
   ]
  },
  {
   "cell_type": "markdown",
   "metadata": {},
   "source": [
    "> the top of each stack is on the right most box"
   ]
  },
  {
   "cell_type": "code",
   "execution_count": 38,
   "metadata": {},
   "outputs": [
    {
     "data": {
      "text/html": [
       "<div>\n",
       "<style scoped>\n",
       "    .dataframe tbody tr th:only-of-type {\n",
       "        vertical-align: middle;\n",
       "    }\n",
       "\n",
       "    .dataframe tbody tr th {\n",
       "        vertical-align: top;\n",
       "    }\n",
       "\n",
       "    .dataframe thead th {\n",
       "        text-align: right;\n",
       "    }\n",
       "</style>\n",
       "<table border=\"1\" class=\"dataframe\">\n",
       "  <thead>\n",
       "    <tr style=\"text-align: right;\">\n",
       "      <th></th>\n",
       "      <th>num</th>\n",
       "      <th>start</th>\n",
       "      <th>end</th>\n",
       "    </tr>\n",
       "  </thead>\n",
       "  <tbody>\n",
       "    <tr>\n",
       "      <th>0</th>\n",
       "      <td>2</td>\n",
       "      <td>4</td>\n",
       "      <td>6</td>\n",
       "    </tr>\n",
       "    <tr>\n",
       "      <th>1</th>\n",
       "      <td>4</td>\n",
       "      <td>5</td>\n",
       "      <td>3</td>\n",
       "    </tr>\n",
       "    <tr>\n",
       "      <th>2</th>\n",
       "      <td>6</td>\n",
       "      <td>6</td>\n",
       "      <td>1</td>\n",
       "    </tr>\n",
       "    <tr>\n",
       "      <th>3</th>\n",
       "      <td>4</td>\n",
       "      <td>1</td>\n",
       "      <td>4</td>\n",
       "    </tr>\n",
       "    <tr>\n",
       "      <th>4</th>\n",
       "      <td>4</td>\n",
       "      <td>9</td>\n",
       "      <td>4</td>\n",
       "    </tr>\n",
       "    <tr>\n",
       "      <th>...</th>\n",
       "      <td>...</td>\n",
       "      <td>...</td>\n",
       "      <td>...</td>\n",
       "    </tr>\n",
       "    <tr>\n",
       "      <th>497</th>\n",
       "      <td>7</td>\n",
       "      <td>1</td>\n",
       "      <td>5</td>\n",
       "    </tr>\n",
       "    <tr>\n",
       "      <th>498</th>\n",
       "      <td>1</td>\n",
       "      <td>3</td>\n",
       "      <td>1</td>\n",
       "    </tr>\n",
       "    <tr>\n",
       "      <th>499</th>\n",
       "      <td>2</td>\n",
       "      <td>8</td>\n",
       "      <td>3</td>\n",
       "    </tr>\n",
       "    <tr>\n",
       "      <th>500</th>\n",
       "      <td>1</td>\n",
       "      <td>5</td>\n",
       "      <td>7</td>\n",
       "    </tr>\n",
       "    <tr>\n",
       "      <th>501</th>\n",
       "      <td>2</td>\n",
       "      <td>9</td>\n",
       "      <td>8</td>\n",
       "    </tr>\n",
       "  </tbody>\n",
       "</table>\n",
       "<p>502 rows × 3 columns</p>\n",
       "</div>"
      ],
      "text/plain": [
       "    num start end\n",
       "0     2     4   6\n",
       "1     4     5   3\n",
       "2     6     6   1\n",
       "3     4     1   4\n",
       "4     4     9   4\n",
       "..   ..   ...  ..\n",
       "497   7     1   5\n",
       "498   1     3   1\n",
       "499   2     8   3\n",
       "500   1     5   7\n",
       "501   2     9   8\n",
       "\n",
       "[502 rows x 3 columns]"
      ]
     },
     "execution_count": 38,
     "metadata": {},
     "output_type": "execute_result"
    }
   ],
   "source": [
    "#format the directions by pulling out the numbers only\n",
    "directions_clean = pd.Series(directions)\n",
    "directions_clean = directions_clean.str.split(' ', expand = True)\n",
    "directions_clean = directions_clean[[1,3,5]]\n",
    "directions_clean.columns = ['num', 'start', 'end']\n",
    "directions_clean"
   ]
  },
  {
   "cell_type": "code",
   "execution_count": 39,
   "metadata": {},
   "outputs": [
    {
     "data": {
      "text/plain": [
       "1    LSTCSRZZPFDSWPNDPMGRRVV\n",
       "2                       PGHP\n",
       "3                        WPC\n",
       "4                  LDLBTCHQD\n",
       "5                    CWFLVNM\n",
       "6                        MSS\n",
       "7                          L\n",
       "8                         GW\n",
       "9                       GCZJ\n",
       "dtype: object"
      ]
     },
     "execution_count": 39,
     "metadata": {},
     "output_type": "execute_result"
    }
   ],
   "source": [
    "stack_end = stack_start.copy()\n",
    "\n",
    "#iterate through each row to apply the crate directions\n",
    "for i, row in directions_clean.iterrows():\n",
    "    num = int(row['num'])\n",
    "    start = int(row['start']) \n",
    "    end = int(row['end'])\n",
    "    \n",
    "    #grab letters to move\n",
    "    to_move = stack_end[start][-num:]\n",
    "    #remove letters\n",
    "    stack_end[start] = stack_end[start][:-num]\n",
    "    #add letters (reverse them first)\n",
    "    stack_end[end] = stack_end[end] + to_move[::-1] \n",
    "    \n",
    "stack_end"
   ]
  },
  {
   "cell_type": "code",
   "execution_count": 40,
   "metadata": {},
   "outputs": [
    {
     "data": {
      "text/plain": [
       "'VPCDMSLWJ'"
      ]
     },
     "execution_count": 40,
     "metadata": {},
     "output_type": "execute_result"
    }
   ],
   "source": [
    "#get the right most letters, as they are the top of the stacks\n",
    "stack_end.str[-1].sum()"
   ]
  },
  {
   "cell_type": "markdown",
   "metadata": {},
   "source": [
    "## Part 2"
   ]
  },
  {
   "cell_type": "markdown",
   "metadata": {},
   "source": [
    "As you watch the crane operator expertly rearrange the crates, you notice the process isn't following your prediction.\n",
    "\n",
    "Some mud was covering the writing on the side of the crane, and you quickly wipe it away. The crane isn't a CrateMover 9000 - it's a CrateMover 9001.\n",
    "\n",
    "The CrateMover 9001 is notable for many new and exciting features: air conditioning, leather seats, an extra cup holder, and the ability to pick up and move multiple crates at once.\n",
    "\n",
    "Again considering the example above, the crates begin in the same configuration:\n",
    "\n",
    "    [D]    \n",
    "[N] [C]    \n",
    "[Z] [M] [P]\n",
    " 1   2   3 \n",
    "Moving a single crate from stack 2 to stack 1 behaves the same as before:\n",
    "\n",
    "[D]        \n",
    "[N] [C]    \n",
    "[Z] [M] [P]\n",
    " 1   2   3 \n",
    "However, the action of moving three crates from stack 1 to stack 3 means that those three moved crates stay in the same order, resulting in this new configuration:\n",
    "\n",
    "        [D]\n",
    "        [N]\n",
    "    [C] [Z]\n",
    "    [M] [P]\n",
    " 1   2   3\n",
    "Next, as both crates are moved from stack 2 to stack 1, they retain their order as well:\n",
    "\n",
    "        [D]\n",
    "        [N]\n",
    "[C]     [Z]\n",
    "[M]     [P]\n",
    " 1   2   3\n",
    "Finally, a single crate is still moved from stack 1 to stack 2, but now it's crate C that gets moved:\n",
    "\n",
    "        [D]\n",
    "        [N]\n",
    "        [Z]\n",
    "[M] [C] [P]\n",
    " 1   2   3\n",
    "In this example, the CrateMover 9001 has put the crates in a totally different order: MCD.\n",
    "\n",
    "Before the rearrangement process finishes, update your simulation so that the Elves know where they should stand to be ready to unload the final supplies. After the rearrangement procedure completes, what crate ends up on top of each stack?"
   ]
  },
  {
   "cell_type": "code",
   "execution_count": 41,
   "metadata": {},
   "outputs": [
    {
     "data": {
      "text/plain": [
       "1    FWPDPHLGJDCSGNVTSMQVSCT\n",
       "2                       RPLP\n",
       "3                        HPW\n",
       "4                  ZPLLSMBVC\n",
       "5                    SLZFZRG\n",
       "6                        WRN\n",
       "7                          C\n",
       "8                         DC\n",
       "9                       WMDG\n",
       "dtype: object"
      ]
     },
     "execution_count": 41,
     "metadata": {},
     "output_type": "execute_result"
    }
   ],
   "source": [
    "stack_end = stack_start.copy()\n",
    "\n",
    "#iterate through each row to apply the crate directions\n",
    "for i, row in directions_clean.iterrows():\n",
    "    num = int(row['num'])\n",
    "    start = int(row['start']) \n",
    "    end = int(row['end'])\n",
    "    \n",
    "    #grab letters to move\n",
    "    to_move = stack_end[start][-num:]\n",
    "    #remove letters\n",
    "    stack_end[start] = stack_end[start][:-num]\n",
    "    #add letters\n",
    "    stack_end[end] = stack_end[end] + to_move\n",
    "    \n",
    "stack_end"
   ]
  },
  {
   "cell_type": "code",
   "execution_count": 43,
   "metadata": {},
   "outputs": [
    {
     "data": {
      "text/plain": [
       "'TPWCGNCCG'"
      ]
     },
     "execution_count": 43,
     "metadata": {},
     "output_type": "execute_result"
    }
   ],
   "source": [
    "#get the right most letters, as they are the top of the stacks\n",
    "stack_end.str[-1].sum()"
   ]
  },
  {
   "cell_type": "code",
   "execution_count": null,
   "metadata": {},
   "outputs": [],
   "source": []
  }
 ],
 "metadata": {
  "kernelspec": {
   "display_name": "Python 3",
   "language": "python",
   "name": "python3"
  },
  "language_info": {
   "codemirror_mode": {
    "name": "ipython",
    "version": 3
   },
   "file_extension": ".py",
   "mimetype": "text/x-python",
   "name": "python",
   "nbconvert_exporter": "python",
   "pygments_lexer": "ipython3",
   "version": "3.7.3"
  },
  "toc": {
   "base_numbering": 1,
   "nav_menu": {},
   "number_sections": false,
   "sideBar": true,
   "skip_h1_title": true,
   "title_cell": "Table of Contents",
   "title_sidebar": "Contents",
   "toc_cell": false,
   "toc_position": {},
   "toc_section_display": true,
   "toc_window_display": false
  }
 },
 "nbformat": 4,
 "nbformat_minor": 2
}
