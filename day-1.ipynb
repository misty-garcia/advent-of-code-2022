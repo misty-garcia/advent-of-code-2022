{
 "cells": [
  {
   "cell_type": "markdown",
   "metadata": {},
   "source": [
    "# Calorie Counting"
   ]
  },
  {
   "cell_type": "markdown",
   "metadata": {},
   "source": [
    "## Part 1 "
   ]
  },
  {
   "cell_type": "markdown",
   "metadata": {},
   "source": [
    "The jungle must be too overgrown and difficult to navigate in vehicles or access from the air; the Elves' expedition traditionally goes on foot. As your boats approach land, the Elves begin taking inventory of their supplies. One important consideration is food - in particular, the number of Calories each Elf is carrying (your puzzle input).\n",
    "\n",
    "The Elves take turns writing down the number of Calories contained by the various meals, snacks, rations, etc. that they've brought with them, one item per line. Each Elf separates their own inventory from the previous Elf's inventory (if any) by a blank line.\n",
    "\n",
    "For example, suppose the Elves finish writing their items' Calories and end up with the following list:\n",
    "\n",
    "1000\n",
    "2000\n",
    "3000\n",
    "\n",
    "4000\n",
    "\n",
    "5000\n",
    "6000\n",
    "\n",
    "7000\n",
    "8000\n",
    "9000\n",
    "\n",
    "10000\n",
    "This list represents the Calories of the food carried by five Elves:\n",
    "\n",
    "The first Elf is carrying food with 1000, 2000, and 3000 Calories, a total of 6000 Calories.\n",
    "The second Elf is carrying one food item with 4000 Calories.\n",
    "The third Elf is carrying food with 5000 and 6000 Calories, a total of 11000 Calories.\n",
    "The fourth Elf is carrying food with 7000, 8000, and 9000 Calories, a total of 24000 Calories.\n",
    "The fifth Elf is carrying one food item with 10000 Calories.\n",
    "In case the Elves get hungry and need extra snacks, they need to know which Elf to ask: they'd like to know how many Calories are being carried by the Elf carrying the most Calories. In the example above, this is 24000 (carried by the fourth Elf).\n",
    "\n",
    "Find the Elf carrying the most Calories. How many total Calories is that Elf carrying?"
   ]
  },
  {
   "cell_type": "code",
   "execution_count": 1,
   "metadata": {},
   "outputs": [],
   "source": [
    "import pandas as pd\n",
    "import numpy as np"
   ]
  },
  {
   "cell_type": "code",
   "execution_count": 2,
   "metadata": {},
   "outputs": [],
   "source": [
    "with open('day_1_input.txt') as f:\n",
    "    data = f.read()"
   ]
  },
  {
   "cell_type": "code",
   "execution_count": 3,
   "metadata": {},
   "outputs": [
    {
     "data": {
      "text/plain": [
       "'2494\\n8013\\n1055\\n5425\\n'"
      ]
     },
     "execution_count": 3,
     "metadata": {},
     "output_type": "execute_result"
    }
   ],
   "source": [
    "data[:20]"
   ]
  },
  {
   "cell_type": "code",
   "execution_count": 4,
   "metadata": {},
   "outputs": [
    {
     "data": {
      "text/plain": [
       "['2494',\n",
       " '8013',\n",
       " '1055',\n",
       " '5425',\n",
       " '9104',\n",
       " '10665',\n",
       " '',\n",
       " '10642',\n",
       " '10677',\n",
       " '10300']"
      ]
     },
     "execution_count": 4,
     "metadata": {},
     "output_type": "execute_result"
    }
   ],
   "source": [
    "foods = data.split('\\n')\n",
    "foods[:10]"
   ]
  },
  {
   "cell_type": "code",
   "execution_count": 5,
   "metadata": {},
   "outputs": [
    {
     "data": {
      "text/plain": [
       "['18117',\n",
       " '13193',\n",
       " '13899',\n",
       " '19853',\n",
       " '',\n",
       " '3533',\n",
       " '4991',\n",
       " '2034',\n",
       " '3914',\n",
       " '5920',\n",
       " '2455',\n",
       " '2660',\n",
       " '3175',\n",
       " '1410',\n",
       " '1127',\n",
       " '2272',\n",
       " '3689',\n",
       " '5804',\n",
       " '1311',\n",
       " '1121']"
      ]
     },
     "execution_count": 5,
     "metadata": {},
     "output_type": "execute_result"
    }
   ],
   "source": [
    "foods[-20:]"
   ]
  },
  {
   "cell_type": "code",
   "execution_count": 6,
   "metadata": {},
   "outputs": [],
   "source": [
    "one_elf = []\n",
    "all_elfs = []\n",
    "for food in foods:\n",
    "    if food != '':\n",
    "        one_elf.append(food)\n",
    "    else:\n",
    "        one_elf_cals = pd.Series(one_elf).astype(int).sum()\n",
    "        all_elfs.append(one_elf_cals)\n",
    "        one_elf = []"
   ]
  },
  {
   "cell_type": "code",
   "execution_count": 7,
   "metadata": {},
   "outputs": [
    {
     "data": {
      "text/plain": [
       "0      36756\n",
       "1      70369\n",
       "2      46030\n",
       "3      55237\n",
       "4      49273\n",
       "       ...  \n",
       "244    40949\n",
       "245    12161\n",
       "246    23106\n",
       "247    40339\n",
       "248    65062\n",
       "Length: 249, dtype: int64"
      ]
     },
     "execution_count": 7,
     "metadata": {},
     "output_type": "execute_result"
    }
   ],
   "source": [
    "all_elfs_cals = pd.Series(all_elfs)\n",
    "all_elfs_cals"
   ]
  },
  {
   "cell_type": "code",
   "execution_count": 8,
   "metadata": {},
   "outputs": [
    {
     "data": {
      "text/plain": [
       "70369"
      ]
     },
     "execution_count": 8,
     "metadata": {},
     "output_type": "execute_result"
    }
   ],
   "source": [
    "all_elfs_cals.max()"
   ]
  },
  {
   "cell_type": "markdown",
   "metadata": {},
   "source": [
    "## Part 2"
   ]
  },
  {
   "cell_type": "markdown",
   "metadata": {},
   "source": [
    "By the time you calculate the answer to the Elves' question, they've already realized that the Elf carrying the most Calories of food might eventually run out of snacks.\n",
    "\n",
    "To avoid this unacceptable situation, the Elves would instead like to know the total Calories carried by the top three Elves carrying the most Calories. That way, even if one of those Elves runs out of snacks, they still have two backups.\n",
    "\n",
    "In the example above, the top three Elves are the fourth Elf (with 24000 Calories), then the third Elf (with 11000 Calories), then the fifth Elf (with 10000 Calories). The sum of the Calories carried by these three elves is 45000.\n",
    "\n",
    "Find the top three Elves carrying the most Calories. How many Calories are those Elves carrying in total?"
   ]
  },
  {
   "cell_type": "code",
   "execution_count": 9,
   "metadata": {},
   "outputs": [],
   "source": [
    "all_elfs_cals = list(all_elfs_cals)"
   ]
  },
  {
   "cell_type": "code",
   "execution_count": 10,
   "metadata": {},
   "outputs": [],
   "source": [
    "all_elfs_cals.sort()"
   ]
  },
  {
   "cell_type": "code",
   "execution_count": 11,
   "metadata": {},
   "outputs": [
    {
     "data": {
      "text/plain": [
       "[9540,\n",
       " 10232,\n",
       " 11444,\n",
       " 12161,\n",
       " 13407,\n",
       " 14867,\n",
       " 19117,\n",
       " 22211,\n",
       " 22486,\n",
       " 23106,\n",
       " 24289,\n",
       " 24592,\n",
       " 26024,\n",
       " 26072,\n",
       " 28400,\n",
       " 28482,\n",
       " 28794,\n",
       " 29457,\n",
       " 29520,\n",
       " 30021,\n",
       " 30134,\n",
       " 30207,\n",
       " 30560,\n",
       " 30761,\n",
       " 30857,\n",
       " 31331,\n",
       " 31349,\n",
       " 31845,\n",
       " 32018,\n",
       " 32065,\n",
       " 33277,\n",
       " 33548,\n",
       " 34327,\n",
       " 34465,\n",
       " 34582,\n",
       " 34619,\n",
       " 34867,\n",
       " 35133,\n",
       " 35211,\n",
       " 35615,\n",
       " 35714,\n",
       " 35926,\n",
       " 36035,\n",
       " 36401,\n",
       " 36433,\n",
       " 36719,\n",
       " 36756,\n",
       " 36937,\n",
       " 37085,\n",
       " 37200,\n",
       " 37307,\n",
       " 37387,\n",
       " 37526,\n",
       " 37823,\n",
       " 37830,\n",
       " 37863,\n",
       " 38088,\n",
       " 38309,\n",
       " 38468,\n",
       " 39161,\n",
       " 39258,\n",
       " 39467,\n",
       " 39769,\n",
       " 40046,\n",
       " 40301,\n",
       " 40339,\n",
       " 40611,\n",
       " 40675,\n",
       " 40681,\n",
       " 40949,\n",
       " 41206,\n",
       " 41580,\n",
       " 41732,\n",
       " 41747,\n",
       " 41793,\n",
       " 41950,\n",
       " 42010,\n",
       " 42085,\n",
       " 42215,\n",
       " 42521,\n",
       " 42594,\n",
       " 42664,\n",
       " 42683,\n",
       " 43030,\n",
       " 43073,\n",
       " 43144,\n",
       " 43246,\n",
       " 43378,\n",
       " 43442,\n",
       " 43588,\n",
       " 43866,\n",
       " 44016,\n",
       " 44193,\n",
       " 44201,\n",
       " 44233,\n",
       " 44311,\n",
       " 44338,\n",
       " 44648,\n",
       " 44705,\n",
       " 45067,\n",
       " 45483,\n",
       " 45509,\n",
       " 45567,\n",
       " 45596,\n",
       " 45668,\n",
       " 45779,\n",
       " 45909,\n",
       " 46030,\n",
       " 46043,\n",
       " 46049,\n",
       " 46098,\n",
       " 46173,\n",
       " 46406,\n",
       " 46987,\n",
       " 47019,\n",
       " 47021,\n",
       " 47429,\n",
       " 47463,\n",
       " 47555,\n",
       " 47623,\n",
       " 47706,\n",
       " 47737,\n",
       " 47858,\n",
       " 48072,\n",
       " 48073,\n",
       " 48077,\n",
       " 48300,\n",
       " 48434,\n",
       " 48507,\n",
       " 48597,\n",
       " 48623,\n",
       " 48675,\n",
       " 48708,\n",
       " 48751,\n",
       " 48764,\n",
       " 48902,\n",
       " 48918,\n",
       " 49273,\n",
       " 49278,\n",
       " 49390,\n",
       " 49474,\n",
       " 49510,\n",
       " 49624,\n",
       " 49643,\n",
       " 49749,\n",
       " 49914,\n",
       " 49957,\n",
       " 49991,\n",
       " 50095,\n",
       " 50346,\n",
       " 50521,\n",
       " 50534,\n",
       " 50656,\n",
       " 50752,\n",
       " 50999,\n",
       " 51088,\n",
       " 51125,\n",
       " 51134,\n",
       " 51145,\n",
       " 51362,\n",
       " 51811,\n",
       " 51910,\n",
       " 52023,\n",
       " 52320,\n",
       " 52347,\n",
       " 52381,\n",
       " 52418,\n",
       " 52453,\n",
       " 52463,\n",
       " 52647,\n",
       " 52887,\n",
       " 52942,\n",
       " 53017,\n",
       " 53121,\n",
       " 53146,\n",
       " 53365,\n",
       " 53550,\n",
       " 53645,\n",
       " 53671,\n",
       " 53679,\n",
       " 53790,\n",
       " 53914,\n",
       " 53989,\n",
       " 53996,\n",
       " 54079,\n",
       " 54097,\n",
       " 54352,\n",
       " 54367,\n",
       " 54405,\n",
       " 54433,\n",
       " 54446,\n",
       " 54498,\n",
       " 54583,\n",
       " 54610,\n",
       " 54722,\n",
       " 54749,\n",
       " 54775,\n",
       " 54902,\n",
       " 54957,\n",
       " 55010,\n",
       " 55060,\n",
       " 55085,\n",
       " 55237,\n",
       " 55608,\n",
       " 55804,\n",
       " 55951,\n",
       " 56208,\n",
       " 56296,\n",
       " 56367,\n",
       " 56373,\n",
       " 56414,\n",
       " 56678,\n",
       " 56688,\n",
       " 56841,\n",
       " 56955,\n",
       " 56968,\n",
       " 57140,\n",
       " 57464,\n",
       " 57532,\n",
       " 57642,\n",
       " 57725,\n",
       " 58263,\n",
       " 58287,\n",
       " 58310,\n",
       " 58537,\n",
       " 58945,\n",
       " 58969,\n",
       " 59087,\n",
       " 59093,\n",
       " 59274,\n",
       " 59362,\n",
       " 59431,\n",
       " 59555,\n",
       " 60109,\n",
       " 60294,\n",
       " 61354,\n",
       " 61698,\n",
       " 63025,\n",
       " 63346,\n",
       " 63968,\n",
       " 64459,\n",
       " 64668,\n",
       " 64686,\n",
       " 65062,\n",
       " 65111,\n",
       " 65667,\n",
       " 65852,\n",
       " 66781,\n",
       " 70369]"
      ]
     },
     "execution_count": 11,
     "metadata": {},
     "output_type": "execute_result"
    }
   ],
   "source": [
    "all_elfs_cals"
   ]
  },
  {
   "cell_type": "code",
   "execution_count": 12,
   "metadata": {},
   "outputs": [],
   "source": [
    "all_cals = 0\n",
    "for cals in all_elfs_cals[-3:]:\n",
    "    all_cals += cals"
   ]
  },
  {
   "cell_type": "code",
   "execution_count": 13,
   "metadata": {},
   "outputs": [
    {
     "data": {
      "text/plain": [
       "203002"
      ]
     },
     "execution_count": 13,
     "metadata": {},
     "output_type": "execute_result"
    }
   ],
   "source": [
    "all_cals"
   ]
  },
  {
   "cell_type": "code",
   "execution_count": null,
   "metadata": {},
   "outputs": [],
   "source": []
  }
 ],
 "metadata": {
  "kernelspec": {
   "display_name": "Python 3",
   "language": "python",
   "name": "python3"
  },
  "language_info": {
   "codemirror_mode": {
    "name": "ipython",
    "version": 3
   },
   "file_extension": ".py",
   "mimetype": "text/x-python",
   "name": "python",
   "nbconvert_exporter": "python",
   "pygments_lexer": "ipython3",
   "version": "3.7.3"
  },
  "toc": {
   "base_numbering": 1,
   "nav_menu": {},
   "number_sections": false,
   "sideBar": true,
   "skip_h1_title": true,
   "title_cell": "Table of Contents",
   "title_sidebar": "Contents",
   "toc_cell": false,
   "toc_position": {},
   "toc_section_display": true,
   "toc_window_display": false
  }
 },
 "nbformat": 4,
 "nbformat_minor": 2
}
